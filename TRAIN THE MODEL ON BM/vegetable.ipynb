{
  "nbformat": 4,
  "nbformat_minor": 0,
  "metadata": {
    "colab": {
      "provenance": [],
      "collapsed_sections": []
    },
    "kernelspec": {
      "name": "python3",
      "display_name": "Python 3"
    },
    "language_info": {
      "name": "python"
    }
  },
  "cells": [
    {
      "cell_type": "code",
      "execution_count": null,
      "metadata": {
        "colab": {
          "base_uri": "https://localhost:8080/"
        },
        "id": "PO0CvZ3nOiiM",
        "outputId": "42b9a97f-2ce2-446f-f6c7-5311ec2f19b2"
      },
      "outputs": [
        {
          "output_type": "stream",
          "name": "stdout",
          "text": [
            "\u001b[0m\u001b[01;34mdrive\u001b[0m/  \u001b[01;34msample_data\u001b[0m/\n"
          ]
        }
      ],
      "source": [
        "ls"
      ]
    },
    {
      "cell_type": "code",
      "source": [
        "cd/content/drive/MyDrive/project sp1"
      ],
      "metadata": {
        "colab": {
          "base_uri": "https://localhost:8080/"
        },
        "id": "2zDebB_tRLRE",
        "outputId": "9ba5d9a6-d729-466a-ba3b-ef9d9dee23bd"
      },
      "execution_count": null,
      "outputs": [
        {
          "output_type": "stream",
          "name": "stdout",
          "text": [
            "/content/drive/MyDrive/project sp1\n"
          ]
        }
      ]
    },
    {
      "cell_type": "code",
      "source": [
        "ls"
      ],
      "metadata": {
        "colab": {
          "base_uri": "https://localhost:8080/"
        },
        "id": "zPpomdV8RVaF",
        "outputId": "7ae345fc-5247-40ec-a8a0-fb544e39fa20"
      },
      "execution_count": null,
      "outputs": [
        {
          "output_type": "stream",
          "name": "stdout",
          "text": [
            "\u001b[0m\u001b[01;34m'Dataset Plant Disease'\u001b[0m/   frsfdp.zip   fruit.h5\n"
          ]
        }
      ]
    },
    {
      "cell_type": "code",
      "source": [
        "!unzip frsfdp.zip"
      ],
      "metadata": {
        "colab": {
          "base_uri": "https://localhost:8080/"
        },
        "id": "T5rquY_rRqS4",
        "outputId": "ba34bd48-6ac1-4dd2-f4a0-db42429fd1e0"
      },
      "execution_count": null,
      "outputs": [
        {
          "output_type": "stream",
          "name": "stdout",
          "text": [
            "Archive:  frsfdp.zip\n",
            "replace Dataset Plant Disease/fruit-dataset/fruit-dataset/test/Apple___Black_rot/00e909aa-e3ae-4558-9961-336bb0f35db3___JR_FrgE.S 8593.JPG? [y]es, [n]o, [A]ll, [N]one, [r]ename: "
          ]
        }
      ]
    },
    {
      "cell_type": "markdown",
      "source": [
        "IMAGE AUGMENTATION"
      ],
      "metadata": {
        "id": "Z_PdueB-q3_u"
      }
    },
    {
      "cell_type": "code",
      "source": [
        "from tensorflow.keras.preprocessing.image import ImageDataGenerator"
      ],
      "metadata": {
        "id": "_b5lafpxTNz2"
      },
      "execution_count": null,
      "outputs": []
    },
    {
      "cell_type": "code",
      "source": [
        "train_datagen = ImageDataGenerator(rescale = 1./255,shear_range = 0.2,zoom_range = 0.2,horizontal_flip = True)\n",
        "test_datagen = ImageDataGenerator(rescale = 1./255)"
      ],
      "metadata": {
        "id": "sAKKRa_hTraA"
      },
      "execution_count": null,
      "outputs": []
    },
    {
      "cell_type": "code",
      "source": [
        "x_train = train_datagen.flow_from_directory(r\"/content/drive/MyDrive/project sp1/Dataset Plant Disease/Veg-dataset/Veg-dataset/train_set\",target_size = (128,128),batch_size=8,class_mode = 'categorical')\n",
        "x_test = test_datagen.flow_from_directory(r\"/content/drive/MyDrive/project sp1/Dataset Plant Disease/Veg-dataset/Veg-dataset/test_set\",target_size = (128,128),batch_size=8,class_mode = 'categorical')\n"
      ],
      "metadata": {
        "colab": {
          "base_uri": "https://localhost:8080/"
        },
        "id": "N13QpZyIUKxc",
        "outputId": "9ddc5fd1-d624-44b2-c246-66e701852598"
      },
      "execution_count": null,
      "outputs": [
        {
          "output_type": "stream",
          "name": "stdout",
          "text": [
            "Found 11386 images belonging to 9 classes.\n",
            "Found 3416 images belonging to 9 classes.\n"
          ]
        }
      ]
    },
    {
      "cell_type": "code",
      "source": [
        "x_train.class_indices"
      ],
      "metadata": {
        "colab": {
          "base_uri": "https://localhost:8080/"
        },
        "id": "xAwR94adVLD9",
        "outputId": "3bfddef5-3edc-4f43-9ec2-ec65adcc259b"
      },
      "execution_count": null,
      "outputs": [
        {
          "output_type": "execute_result",
          "data": {
            "text/plain": [
              "{'Pepper,_bell___Bacterial_spot': 0,\n",
              " 'Pepper,_bell___healthy': 1,\n",
              " 'Potato___Early_blight': 2,\n",
              " 'Potato___Late_blight': 3,\n",
              " 'Potato___healthy': 4,\n",
              " 'Tomato___Bacterial_spot': 5,\n",
              " 'Tomato___Late_blight': 6,\n",
              " 'Tomato___Leaf_Mold': 7,\n",
              " 'Tomato___Septoria_leaf_spot': 8}"
            ]
          },
          "metadata": {},
          "execution_count": 9
        }
      ]
    },
    {
      "cell_type": "code",
      "source": [
        "from tensorflow.keras.models import Sequential\n",
        "from tensorflow.keras.layers import Convolution2D,MaxPooling2D,Flatten,Dense"
      ],
      "metadata": {
        "id": "Dny5TB6BWs3u"
      },
      "execution_count": null,
      "outputs": []
    },
    {
      "cell_type": "code",
      "source": [
        "model = Sequential()\n"
      ],
      "metadata": {
        "id": "ONdjmecKXJAU"
      },
      "execution_count": null,
      "outputs": []
    },
    {
      "cell_type": "code",
      "source": [
        "model.add(Convolution2D(32,(3,3),input_shape=(128,128,3),activation='relu'))\n"
      ],
      "metadata": {
        "id": "Z8naz96mXQPd"
      },
      "execution_count": null,
      "outputs": []
    },
    {
      "cell_type": "code",
      "source": [
        "model.add(MaxPooling2D(pool_size=(2,2)))\n"
      ],
      "metadata": {
        "id": "_OWWSIg3XUmd"
      },
      "execution_count": null,
      "outputs": []
    },
    {
      "cell_type": "code",
      "source": [
        "model.add(Flatten())\n"
      ],
      "metadata": {
        "id": "ZSCoJuwAXZi6"
      },
      "execution_count": null,
      "outputs": []
    },
    {
      "cell_type": "code",
      "source": [
        "model.add(Dense(300,activation='relu'))\n",
        "model.add(Dense(150,activation='relu'))\n",
        "model.add(Dense(75,activation='relu'))"
      ],
      "metadata": {
        "id": "O9rtvsYfXgSl"
      },
      "execution_count": null,
      "outputs": []
    },
    {
      "cell_type": "code",
      "source": [
        "model.add(Dense(9,activation = 'softmax'))\n"
      ],
      "metadata": {
        "id": "ARRj-W4yX1SW"
      },
      "execution_count": null,
      "outputs": []
    },
    {
      "cell_type": "code",
      "source": [
        "model.compile(loss='categorical_crossentropy',optimizer='adam',metrics=['accuracy'])\n"
      ],
      "metadata": {
        "id": "oV5-qqzsX9Rt"
      },
      "execution_count": null,
      "outputs": []
    },
    {
      "cell_type": "code",
      "source": [
        "model.summary()\n"
      ],
      "metadata": {
        "colab": {
          "base_uri": "https://localhost:8080/"
        },
        "id": "uZt2GOqCYFtZ",
        "outputId": "4638de46-c5ea-4ce3-e436-41e36f6c4b65"
      },
      "execution_count": null,
      "outputs": [
        {
          "output_type": "stream",
          "name": "stdout",
          "text": [
            "Model: \"sequential\"\n",
            "_________________________________________________________________\n",
            " Layer (type)                Output Shape              Param #   \n",
            "=================================================================\n",
            " conv2d (Conv2D)             (None, 126, 126, 32)      896       \n",
            "                                                                 \n",
            " max_pooling2d (MaxPooling2D  (None, 63, 63, 32)       0         \n",
            " )                                                               \n",
            "                                                                 \n",
            " flatten (Flatten)           (None, 127008)            0         \n",
            "                                                                 \n",
            " dense (Dense)               (None, 300)               38102700  \n",
            "                                                                 \n",
            " dense_1 (Dense)             (None, 150)               45150     \n",
            "                                                                 \n",
            " dense_2 (Dense)             (None, 75)                11325     \n",
            "                                                                 \n",
            " dense_3 (Dense)             (None, 9)                 684       \n",
            "                                                                 \n",
            "=================================================================\n",
            "Total params: 38,160,755\n",
            "Trainable params: 38,160,755\n",
            "Non-trainable params: 0\n",
            "_________________________________________________________________\n"
          ]
        }
      ]
    },
    {
      "cell_type": "code",
      "source": [
        "model.fit_generator(x_train,steps_per_epoch=89,epochs=20,validation_data=x_test,validation_steps=27)\n"
      ],
      "metadata": {
        "colab": {
          "base_uri": "https://localhost:8080/"
        },
        "id": "dg7TVqnqYJNq",
        "outputId": "0277597c-f5f3-4421-8058-5fa1b2f7c246"
      },
      "execution_count": 19,
      "outputs": [
        {
          "metadata": {
            "tags": null
          },
          "name": "stderr",
          "output_type": "stream",
          "text": [
            "/usr/local/lib/python3.7/dist-packages/ipykernel_launcher.py:1: UserWarning: `Model.fit_generator` is deprecated and will be removed in a future version. Please use `Model.fit`, which supports generators.\n",
            "  \"\"\"Entry point for launching an IPython kernel.\n"
          ]
        },
        {
          "output_type": "stream",
          "name": "stdout",
          "text": [
            "Epoch 1/20\n",
            "89/89 [==============================] - 240s 3s/step - loss: 2.5226 - accuracy: 0.2177 - val_loss: 1.8249 - val_accuracy: 0.4259\n",
            "Epoch 2/20\n",
            "89/89 [==============================] - 219s 2s/step - loss: 1.6819 - accuracy: 0.3975 - val_loss: 1.5049 - val_accuracy: 0.4907\n",
            "Epoch 3/20\n",
            "89/89 [==============================] - 209s 2s/step - loss: 1.2938 - accuracy: 0.5618 - val_loss: 1.4205 - val_accuracy: 0.4907\n",
            "Epoch 4/20\n",
            "89/89 [==============================] - 192s 2s/step - loss: 1.2039 - accuracy: 0.5660 - val_loss: 1.0881 - val_accuracy: 0.6065\n",
            "Epoch 5/20\n",
            "89/89 [==============================] - 183s 2s/step - loss: 1.2170 - accuracy: 0.5660 - val_loss: 1.0996 - val_accuracy: 0.5787\n",
            "Epoch 6/20\n",
            "89/89 [==============================] - 179s 2s/step - loss: 1.0703 - accuracy: 0.6222 - val_loss: 1.0568 - val_accuracy: 0.6204\n",
            "Epoch 7/20\n",
            "89/89 [==============================] - 162s 2s/step - loss: 1.0685 - accuracy: 0.6138 - val_loss: 0.8573 - val_accuracy: 0.6435\n",
            "Epoch 8/20\n",
            "89/89 [==============================] - 161s 2s/step - loss: 0.9593 - accuracy: 0.6587 - val_loss: 0.8314 - val_accuracy: 0.7315\n",
            "Epoch 9/20\n",
            "89/89 [==============================] - 146s 2s/step - loss: 0.9818 - accuracy: 0.6573 - val_loss: 0.7584 - val_accuracy: 0.6806\n",
            "Epoch 10/20\n",
            "89/89 [==============================] - 143s 2s/step - loss: 0.8468 - accuracy: 0.6966 - val_loss: 0.7613 - val_accuracy: 0.7361\n",
            "Epoch 11/20\n",
            "89/89 [==============================] - 125s 1s/step - loss: 0.8783 - accuracy: 0.6756 - val_loss: 0.7331 - val_accuracy: 0.7315\n",
            "Epoch 12/20\n",
            "89/89 [==============================] - 120s 1s/step - loss: 0.7728 - accuracy: 0.7247 - val_loss: 0.9489 - val_accuracy: 0.6991\n",
            "Epoch 13/20\n",
            "89/89 [==============================] - 111s 1s/step - loss: 0.7743 - accuracy: 0.7233 - val_loss: 0.7495 - val_accuracy: 0.7176\n",
            "Epoch 14/20\n",
            "89/89 [==============================] - 107s 1s/step - loss: 0.6912 - accuracy: 0.7331 - val_loss: 0.9009 - val_accuracy: 0.6991\n",
            "Epoch 15/20\n",
            "89/89 [==============================] - 102s 1s/step - loss: 0.8056 - accuracy: 0.7219 - val_loss: 0.7490 - val_accuracy: 0.7361\n",
            "Epoch 16/20\n",
            "89/89 [==============================] - 96s 1s/step - loss: 0.8044 - accuracy: 0.7261 - val_loss: 0.5688 - val_accuracy: 0.7731\n",
            "Epoch 17/20\n",
            "89/89 [==============================] - 93s 1s/step - loss: 0.7830 - accuracy: 0.7275 - val_loss: 0.8252 - val_accuracy: 0.7176\n",
            "Epoch 18/20\n",
            "89/89 [==============================] - 86s 967ms/step - loss: 0.7168 - accuracy: 0.7472 - val_loss: 0.8073 - val_accuracy: 0.6713\n",
            "Epoch 19/20\n",
            "89/89 [==============================] - 86s 968ms/step - loss: 0.7550 - accuracy: 0.7360 - val_loss: 0.5416 - val_accuracy: 0.7963\n",
            "Epoch 20/20\n",
            "89/89 [==============================] - 82s 916ms/step - loss: 0.7503 - accuracy: 0.7261 - val_loss: 0.5579 - val_accuracy: 0.8194\n"
          ]
        },
        {
          "output_type": "execute_result",
          "data": {
            "text/plain": [
              "<keras.callbacks.History at 0x7f848b80a6d0>"
            ]
          },
          "metadata": {},
          "execution_count": 19
        }
      ]
    },
    {
      "cell_type": "code",
      "source": [
        "model.save(\"vegetable.h5\")\n"
      ],
      "metadata": {
        "id": "ePf1v1ZCYRGo"
      },
      "execution_count": 20,
      "outputs": []
    },
    {
      "cell_type": "markdown",
      "source": [
        "TESTING THE MODEL"
      ],
      "metadata": {
        "id": "19Rldnyaqlvs"
      }
    },
    {
      "cell_type": "code",
      "source": [
        "import numpy as np\n",
        "from tensorflow.keras.models import load_model\n",
        "from tensorflow.keras.preprocessing import image"
      ],
      "metadata": {
        "id": "lMzH8SzylOcb"
      },
      "execution_count": 21,
      "outputs": []
    },
    {
      "cell_type": "code",
      "source": [
        "model =load_model(\"vegetable.h5\")\n"
      ],
      "metadata": {
        "id": "Lf4mB_50miKl"
      },
      "execution_count": 22,
      "outputs": []
    },
    {
      "cell_type": "code",
      "source": [
        "img = image.load_img(r\"/content/drive/MyDrive/project sp1/Dataset Plant Disease/Veg-dataset/Veg-dataset/train_set/Pepper,_bell___Bacterial_spot/024623ab-be81-4d99-a653-c3be1495ce8e___JR_B.Spot 8889.JPG\",target_size=(128,128))\n",
        "img"
      ],
      "metadata": {
        "colab": {
          "base_uri": "https://localhost:8080/",
          "height": 145
        },
        "id": "Yj5JPsijmqGj",
        "outputId": "7b48854f-6570-42d0-b989-028c8ce099ca"
      },
      "execution_count": 25,
      "outputs": [
        {
          "output_type": "execute_result",
          "data": {
            "text/plain": [
              "<PIL.Image.Image image mode=RGB size=128x128 at 0x7F8486C7CE10>"
            ],
            "image/png": "[encoded data removed]"
          },
          "metadata": {},
          "execution_count": 25
        }
      ]
    },
    {
      "cell_type": "code",
      "source": [
        "x=image.img_to_array(img)\n",
        "x=np.expand_dims(x,axis=0)\n",
        "pred = np.argmax(model.predict(x),axis=1)\n",
        "\n",
        "index=['Pepper,_bell___Bacterial_spot',\n",
        " 'Pepper,_bell___healthy',\n",
        " 'Potato___Early_blight',\n",
        " 'Potato___Late_blight',\n",
        " 'Potato___healthy',\n",
        " 'Tomato___Bacterial_spot',\n",
        " 'Tomato___Late_blight',\n",
        " 'Tomato___Leaf_Mold',\n",
        " 'Tomato___Septoria_leaf_spot']\n",
        "\n",
        "index[pred[0]]"
      ],
      "metadata": {
        "colab": {
          "base_uri": "https://localhost:8080/",
          "height": 53
        },
        "id": "Uxb1aj6xpELt",
        "outputId": "df44fd5d-8c47-458b-e51d-146497e7e31f"
      },
      "execution_count": 27,
      "outputs": [
        {
          "output_type": "stream",
          "name": "stdout",
          "text": [
            "1/1 [==============================] - 0s 66ms/step\n"
          ]
        },
        {
          "output_type": "execute_result",
          "data": {
            "text/plain": [
              "'Pepper,_bell___healthy'"
            ],
            "application/vnd.google.colaboratory.intrinsic+json": {
              "type": "string"
            }
          },
          "metadata": {},
          "execution_count": 27
        }
      ]
    },
    {
      "cell_type": "code",
      "source": [],
      "metadata": {
        "id": "GrYMbcFRqaGD"
      },
      "execution_count": null,
      "outputs": []
    }
  ]
}